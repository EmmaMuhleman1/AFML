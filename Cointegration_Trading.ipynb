{
  "nbformat": 4,
  "nbformat_minor": 0,
  "metadata": {
    "colab": {
      "provenance": [],
      "authorship_tag": "ABX9TyNnMtkAfSVDU1A4c+Qr/B9e",
      "include_colab_link": true
    },
    "kernelspec": {
      "name": "python3",
      "display_name": "Python 3"
    },
    "language_info": {
      "name": "python"
    }
  },
  "cells": [
    {
      "cell_type": "markdown",
      "metadata": {
        "id": "view-in-github",
        "colab_type": "text"
      },
      "source": [
        "<a href=\"https://colab.research.google.com/github/EmmaMuhleman1/AFML/blob/master/Cointegration_Trading.ipynb\" target=\"_parent\"><img src=\"https://colab.research.google.com/assets/colab-badge.svg\" alt=\"Open In Colab\"/></a>"
      ]
    },
    {
      "cell_type": "markdown",
      "source": [
        "# Statistical Arbitrage Strategy for XOM and CVX with EWMA Weighting\n",
        "\n",
        "This notebook implements a statistical arbitrage strategy for ExxonMobil (XOM) and Chevron (CVX) using daily closing prices from March 1, 2025, to June 30, 2025 (83 trading days). The strategy leverages the **Engle-Granger methodology** to test for cointegration, the **Ornstein-Uhlenbeck (OU) process** to model the spread, and **Exponentially Weighted Moving Average (EWMA)** to overweight recent data. We compare EWMA to uniform and linearly weighted methods, analyze returns distributions, and backtest the strategy against a benchmark (HFR Statistical Arbitrage Index). Performance metrics, risk-adjusted returns, and statistical comparisons to a normal distribution are provided, along with visualizations.\n",
        "\n",
        "## Dependencies\n",
        "Install required libraries:\n",
        "```bash\n",
        "pip install numpy pandas statsmodels scipy matplotlib seaborn yfinance"
      ],
      "metadata": {
        "id": "1w39Kl8rifD6"
      }
    },
    {
      "cell_type": "code",
      "execution_count": 9,
      "metadata": {
        "id": "XI4i-5-oKM8Z"
      },
      "outputs": [],
      "source": [
        "import numpy as np\n",
        "import pandas as pd\n",
        "import statsmodels\n",
        "import scipy\n",
        "import matplotlib\n",
        "%matplotlib inline\n",
        "import seaborn as sns\n",
        "import yfinance as yf"
      ]
    },
    {
      "cell_type": "markdown",
      "source": [
        "###### Define tickers and date range"
      ],
      "metadata": {
        "id": "_oo6lUXNjNzh"
      }
    },
    {
      "cell_type": "code",
      "source": [
        "tickers = [\"XOM\", \"CVX\"]\n",
        "start_date = \"2025-01-01\"\n",
        "end_date = \"2025-07-01\""
      ],
      "metadata": {
        "id": "0D7Uvn1ILyqL"
      },
      "execution_count": 2,
      "outputs": []
    },
    {
      "cell_type": "code",
      "source": [
        "for ticker in tickers:\n",
        "    # Download data\n",
        "    data = yf.download(ticker, start=start_date, end=end_date)\n",
        "\n",
        "    # Keep only OHLCV with Adjusted Close as Close\n",
        "    data = data[[\"Open\", \"High\", \"Low\", \"Close\", \"Volume\"]]\n",
        "\n",
        "    # Save to CSV\n",
        "    data.to_csv(f\"{ticker}.csv\")"
      ],
      "metadata": {
        "colab": {
          "base_uri": "https://localhost:8080/"
        },
        "id": "Df0IlWycL2Ox",
        "outputId": "376ec5e1-7520-4927-9d89-5db592f89770"
      },
      "execution_count": 8,
      "outputs": [
        {
          "output_type": "stream",
          "name": "stderr",
          "text": [
            "[*********************100%***********************]  1 of 1 completed\n",
            "[*********************100%***********************]  1 of 1 completed\n"
          ]
        }
      ]
    },
    {
      "cell_type": "code",
      "source": [],
      "metadata": {
        "id": "GIJgD6kvL53y"
      },
      "execution_count": null,
      "outputs": []
    }
  ]
}